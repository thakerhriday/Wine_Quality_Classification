{
 "cells": [
  {
   "cell_type": "code",
   "execution_count": 3,
   "metadata": {},
   "outputs": [
    {
     "name": "stderr",
     "output_type": "stream",
     "text": [
      "c:\\Python\\MLC\\venv\\Lib\\site-packages\\sklearn\\base.py:493: UserWarning: X does not have valid feature names, but MinMaxScaler was fitted with feature names\n",
      "  warnings.warn(\n"
     ]
    }
   ],
   "source": [
    "import tkinter as tk\n",
    "from tkinter import messagebox\n",
    "import pandas as pd\n",
    "from sklearn.ensemble import RandomForestClassifier\n",
    "from sklearn.preprocessing import MinMaxScaler\n",
    "from imblearn.over_sampling import SMOTE\n",
    "\n",
    "# Load and preprocess the dataset\n",
    "url = 'https://archive.ics.uci.edu/ml/machine-learning-databases/wine-quality/winequality-red.csv'\n",
    "data = pd.read_csv(url, sep=';')\n",
    "\n",
    "# Define features and target variable\n",
    "X = data.drop(columns=['quality'])\n",
    "y = data['quality']\n",
    "\n",
    "# Apply Min-Max Scaling\n",
    "scaler = MinMaxScaler()\n",
    "X_scaled = scaler.fit_transform(X)\n",
    "\n",
    "# Apply SMOTE\n",
    "smote = SMOTE(random_state=42)\n",
    "X_resampled, y_resampled = smote.fit_resample(X_scaled, y)\n",
    "\n",
    "# Create and fit the model\n",
    "rf = RandomForestClassifier(n_estimators=200, max_depth=20, random_state=42, class_weight='balanced')\n",
    "rf.fit(X_resampled, y_resampled)\n",
    "\n",
    "# Function to predict wine quality\n",
    "def predict_wine_quality():\n",
    "    # Retrieve inputs from the GUI\n",
    "    features = [float(entry.get()) for entry in feature_entries]\n",
    "    features_scaled = scaler.transform([features])\n",
    "    \n",
    "    # Predicting quality\n",
    "    quality_prediction = rf.predict(features_scaled)[0]\n",
    "    \n",
    "    # Map the prediction to categories\n",
    "    if quality_prediction <= 4:\n",
    "        result = \"Not Good\"\n",
    "    elif quality_prediction <= 6:\n",
    "        result = \"Average\"\n",
    "    else:\n",
    "        result = \"Good\"\n",
    "    \n",
    "    # Display the result\n",
    "    messagebox.showinfo(\"Wine Quality Prediction\", f\"The predicted quality is: {result}\")\n",
    "\n",
    "# Create the main window\n",
    "root = tk.Tk()\n",
    "root.title(\"Wine Quality Prediction\")\n",
    "\n",
    "# List of feature names (replace with actual feature names from your dataset)\n",
    "feature_names = [\"Fixed Acidity\", \"Volatile Acidity\", \"Citric Acid\", \"Residual Sugar\", \n",
    "                 \"Chlorides\", \"Free Sulfur Dioxide\", \"Total Sulfur Dioxide\", \n",
    "                 \"Density\", \"pH\", \"Sulphates\", \"Alcohol\"]\n",
    "\n",
    "# Create input fields for each feature\n",
    "feature_entries = []\n",
    "for feature in feature_names:\n",
    "    frame = tk.Frame(root)\n",
    "    label = tk.Label(frame, text=feature)\n",
    "    label.pack(side=tk.LEFT)\n",
    "    entry = tk.Entry(frame)\n",
    "    entry.pack(side=tk.RIGHT)\n",
    "    feature_entries.append(entry)\n",
    "    frame.pack()\n",
    "\n",
    "# Button to predict\n",
    "predict_button = tk.Button(root, text=\"Predict Quality\", command=predict_wine_quality)\n",
    "predict_button.pack()\n",
    "\n",
    "# Run the application\n",
    "root.mainloop()\n"
   ]
  }
 ],
 "metadata": {
  "kernelspec": {
   "display_name": "Python 3",
   "language": "python",
   "name": "python3"
  },
  "language_info": {
   "codemirror_mode": {
    "name": "ipython",
    "version": 3
   },
   "file_extension": ".py",
   "mimetype": "text/x-python",
   "name": "python",
   "nbconvert_exporter": "python",
   "pygments_lexer": "ipython3",
   "version": "3.12.0"
  }
 },
 "nbformat": 4,
 "nbformat_minor": 2
}
